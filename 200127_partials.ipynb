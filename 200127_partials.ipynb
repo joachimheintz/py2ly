{
 "cells": [
  {
   "cell_type": "markdown",
   "metadata": {},
   "source": [
    "## Display Partials and Cent Deviations in Lilypond"
   ]
  },
  {
   "cell_type": "markdown",
   "metadata": {},
   "source": [
    "import functions and template"
   ]
  },
  {
   "cell_type": "code",
   "execution_count": 1,
   "metadata": {},
   "outputs": [],
   "source": [
    "from midi2ly import *"
   ]
  },
  {
   "cell_type": "markdown",
   "metadata": {},
   "source": [
    "calculate partials 1-64 above A=55Hz. return midi (as floats) and list of corresponding partials"
   ]
  },
  {
   "cell_type": "code",
   "execution_count": 2,
   "metadata": {},
   "outputs": [],
   "source": [
    "(midi,partialnums) = partialsToMidi(basfreq=55,last=64)"
   ]
  },
  {
   "cell_type": "markdown",
   "metadata": {},
   "source": [
    "generate lilypond note names (german) with cent deviations for each note. format the partials list to single strings"
   ]
  },
  {
   "cell_type": "code",
   "execution_count": 3,
   "metadata": {},
   "outputs": [],
   "source": [
    "(lynams,cents) = midiToLy(midi,{'es':'dis'})\n",
    "partials = toSingleStrings(partialnums)"
   ]
  },
  {
   "cell_type": "markdown",
   "metadata": {},
   "source": [
    "fill the template and write to file"
   ]
  },
  {
   "cell_type": "code",
   "execution_count": 4,
   "metadata": {},
   "outputs": [],
   "source": [
    "titel = 'Teiltöne 1-64 über A=55Hz'\n",
    "autor = 'jh 2020'\n",
    "noten = lynams\n",
    "oben = cents\n",
    "unten = partials\n",
    "titeloben = \"Cents:\"\n",
    "titelunten = \"Partials:\"\n",
    "lyfile = fillLilyTemplate(noten,oben,unten,titeloben,titelunten,titel,autor)\n",
    "writeFile(lyfile,'partials.ly')"
   ]
  },
  {
   "cell_type": "markdown",
   "metadata": {},
   "source": [
    "(afterwards, do some minor edits by hand, mainly clefs)"
   ]
  },
  {
   "cell_type": "code",
   "execution_count": null,
   "metadata": {},
   "outputs": [],
   "source": []
  }
 ],
 "metadata": {
  "kernelspec": {
   "display_name": "Python 3",
   "language": "python",
   "name": "python3"
  },
  "language_info": {
   "codemirror_mode": {
    "name": "ipython",
    "version": 3
   },
   "file_extension": ".py",
   "mimetype": "text/x-python",
   "name": "python",
   "nbconvert_exporter": "python",
   "pygments_lexer": "ipython3",
   "version": "3.7.3"
  }
 },
 "nbformat": 4,
 "nbformat_minor": 2
}
